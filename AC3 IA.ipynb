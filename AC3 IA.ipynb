{
  "nbformat": 4,
  "nbformat_minor": 0,
  "metadata": {
    "colab": {
      "provenance": [],
      "authorship_tag": "ABX9TyP1t4Kzm7HxhaGpVcVyz6aU",
      "include_colab_link": true
    },
    "kernelspec": {
      "name": "python3",
      "display_name": "Python 3"
    },
    "language_info": {
      "name": "python"
    }
  },
  "cells": [
    {
      "cell_type": "markdown",
      "metadata": {
        "id": "view-in-github",
        "colab_type": "text"
      },
      "source": [
        "<a href=\"https://colab.research.google.com/github/LukauSamuel/Produto/blob/master/AC3%20IA.ipynb\" target=\"_parent\"><img src=\"https://colab.research.google.com/assets/colab-badge.svg\" alt=\"Open In Colab\"/></a>"
      ]
    },
    {
      "cell_type": "code",
      "execution_count": 2,
      "metadata": {
        "id": "u7XdNyzbSZAW"
      },
      "outputs": [],
      "source": [
        "import pandas as pd\n",
        "import numpy as np\n",
        "from pandas import DataFrame\n",
        "\n",
        "# Definindo as localidades das filiais\n",
        "localidades = ['Nova York', 'Los Angeles', 'Chicago', 'Miami', 'Dallas']\n",
        "\n",
        "# Gerando dados simulados para cada filial\n",
        "dados_loja = []\n",
        "np.random.seed(0)  # Define a semente para consistência\n",
        "for i in range(2000):\n",
        "    localidade = np.random.choice(localidades)\n",
        "    data_loja = {\n",
        "        'Empresa': 'Apple',\n",
        "        'Localidade': localidade,\n",
        "        'Data': pd.date_range(start='2022-01-01', end='2022-12-31', freq='D'),\n",
        "        'Produto': 'iPhone',\n",
        "        'Modelo': np.random.choice(['iPhone 13', 'iPhone 12', 'iPhone 11'], size=365),\n",
        "        'Cor': np.random.choice(['Preto', 'Branco', 'Prateado', 'Dourado'], size=365),\n",
        "        'Quantidade': np.random.randint(1, 20, size=365),\n",
        "        'Preço_Unitário': np.random.uniform(700, 1500, size=365),\n",
        "        'Desconto': np.random.uniform(0, 200, size=365),\n",
        "        'Imposto': np.random.uniform(0, 100, size=365)\n",
        "    }\n",
        "    dados_loja.append(data_loja)\n",
        "\n",
        "# Concatenando os dados de todas as filiais em um DataFrame único\n",
        "df = pd.concat([pd.DataFrame(dados) for dados in dados_loja], ignore_index=True)"
      ]
    },
    {
      "cell_type": "code",
      "source": [
        "# Exibir as primeiras linhas do DataFrame\n",
        "print(df.head())"
      ],
      "metadata": {
        "colab": {
          "base_uri": "https://localhost:8080/"
        },
        "id": "DdH7qldBStZA",
        "outputId": "e4995c00-7211-43f0-df9f-87d0d8abeb27"
      },
      "execution_count": 4,
      "outputs": [
        {
          "output_type": "stream",
          "name": "stdout",
          "text": [
            "  Empresa Localidade       Data Produto     Modelo       Cor  Quantidade  \\\n",
            "0   Apple     Dallas 2022-01-01  iPhone  iPhone 12  Prateado           4   \n",
            "1   Apple     Dallas 2022-01-02  iPhone  iPhone 13    Branco          15   \n",
            "2   Apple     Dallas 2022-01-03  iPhone  iPhone 12     Preto          19   \n",
            "3   Apple     Dallas 2022-01-04  iPhone  iPhone 12  Prateado           6   \n",
            "4   Apple     Dallas 2022-01-05  iPhone  iPhone 11   Dourado           5   \n",
            "\n",
            "   Preço_Unitário    Desconto    Imposto  \n",
            "0      805.522600   23.563948  78.901533  \n",
            "1      860.412810   71.262996  30.287818  \n",
            "2     1111.243577   53.256798  64.482696  \n",
            "3      777.994707  161.483705  97.041030  \n",
            "4     1381.482959   32.711759  78.555503  \n"
          ]
        }
      ]
    },
    {
      "cell_type": "code",
      "source": [
        "# Verificar os tipos de dados de cada coluna\n",
        "print(df.dtypes)"
      ],
      "metadata": {
        "colab": {
          "base_uri": "https://localhost:8080/"
        },
        "id": "7xkAV0sYTVfK",
        "outputId": "5f29d8a7-5f7a-411a-8ee8-d4d7dd943cc6"
      },
      "execution_count": 5,
      "outputs": [
        {
          "output_type": "stream",
          "name": "stdout",
          "text": [
            "Empresa                   object\n",
            "Localidade                object\n",
            "Data              datetime64[ns]\n",
            "Produto                   object\n",
            "Modelo                    object\n",
            "Cor                       object\n",
            "Quantidade                 int64\n",
            "Preço_Unitário           float64\n",
            "Desconto                 float64\n",
            "Imposto                  float64\n",
            "dtype: object\n"
          ]
        }
      ]
    },
    {
      "cell_type": "code",
      "source": [
        "# Adicionando a coluna de receita ao DataFrame\n",
        "df['Receita'] = df['Quantidade'] * df['Preço_Unitário'] - df['Desconto']"
      ],
      "metadata": {
        "id": "a3ikqjRFUCEP"
      },
      "execution_count": 6,
      "outputs": []
    },
    {
      "cell_type": "code",
      "source": [
        "# Exibindo as primeiras linhas do DataFrame com a nova coluna\n",
        "print(df.head())"
      ],
      "metadata": {
        "colab": {
          "base_uri": "https://localhost:8080/"
        },
        "id": "crTqMo-DUFlv",
        "outputId": "c83705b2-413c-4bee-be5b-f3726444a280"
      },
      "execution_count": 7,
      "outputs": [
        {
          "output_type": "stream",
          "name": "stdout",
          "text": [
            "  Empresa Localidade       Data Produto     Modelo       Cor  Quantidade  \\\n",
            "0   Apple     Dallas 2022-01-01  iPhone  iPhone 12  Prateado           4   \n",
            "1   Apple     Dallas 2022-01-02  iPhone  iPhone 13    Branco          15   \n",
            "2   Apple     Dallas 2022-01-03  iPhone  iPhone 12     Preto          19   \n",
            "3   Apple     Dallas 2022-01-04  iPhone  iPhone 12  Prateado           6   \n",
            "4   Apple     Dallas 2022-01-05  iPhone  iPhone 11   Dourado           5   \n",
            "\n",
            "   Preço_Unitário    Desconto    Imposto       Receita  \n",
            "0      805.522600   23.563948  78.901533   3198.526452  \n",
            "1      860.412810   71.262996  30.287818  12834.929159  \n",
            "2     1111.243577   53.256798  64.482696  21060.371174  \n",
            "3      777.994707  161.483705  97.041030   4506.484539  \n",
            "4     1381.482959   32.711759  78.555503   6874.703039  \n"
          ]
        }
      ]
    },
    {
      "cell_type": "code",
      "source": [
        "# Adicionando a coluna de custo total ao DataFrame\n",
        "df['Custo_Total'] = df['Quantidade'] * df['Preço_Unitário'] + df['Imposto']"
      ],
      "metadata": {
        "id": "aWeEUTJ2U9qa"
      },
      "execution_count": 8,
      "outputs": []
    },
    {
      "cell_type": "code",
      "source": [
        "# Exibindo as primeiras linhas do DataFrame com a nova coluna\n",
        "print(df.head())"
      ],
      "metadata": {
        "colab": {
          "base_uri": "https://localhost:8080/"
        },
        "id": "7tOP5PkhVAMy",
        "outputId": "482aaa14-36ba-4900-d9d1-9964808ea0bd"
      },
      "execution_count": 9,
      "outputs": [
        {
          "output_type": "stream",
          "name": "stdout",
          "text": [
            "  Empresa Localidade       Data Produto     Modelo       Cor  Quantidade  \\\n",
            "0   Apple     Dallas 2022-01-01  iPhone  iPhone 12  Prateado           4   \n",
            "1   Apple     Dallas 2022-01-02  iPhone  iPhone 13    Branco          15   \n",
            "2   Apple     Dallas 2022-01-03  iPhone  iPhone 12     Preto          19   \n",
            "3   Apple     Dallas 2022-01-04  iPhone  iPhone 12  Prateado           6   \n",
            "4   Apple     Dallas 2022-01-05  iPhone  iPhone 11   Dourado           5   \n",
            "\n",
            "   Preço_Unitário    Desconto    Imposto       Receita   Custo_Total  \n",
            "0      805.522600   23.563948  78.901533   3198.526452   3300.991932  \n",
            "1      860.412810   71.262996  30.287818  12834.929159  12936.479973  \n",
            "2     1111.243577   53.256798  64.482696  21060.371174  21178.110668  \n",
            "3      777.994707  161.483705  97.041030   4506.484539   4765.009274  \n",
            "4     1381.482959   32.711759  78.555503   6874.703039   6985.970301  \n"
          ]
        }
      ]
    },
    {
      "cell_type": "code",
      "source": [
        "# Gerar um resumo estatístico do DataFrame\n",
        "resumo_estatistico = df.describe()"
      ],
      "metadata": {
        "id": "sIYodNKvV1Kq"
      },
      "execution_count": 10,
      "outputs": []
    },
    {
      "cell_type": "code",
      "source": [
        "# Exibir o resumo estatístico\n",
        "print(resumo_estatistico)"
      ],
      "metadata": {
        "colab": {
          "base_uri": "https://localhost:8080/"
        },
        "id": "Px9ju86YV7d2",
        "outputId": "6adf5cc5-6ce8-4809-86c6-1b3deace7a0d"
      },
      "execution_count": 11,
      "outputs": [
        {
          "output_type": "stream",
          "name": "stdout",
          "text": [
            "                                Data     Quantidade  Preço_Unitário  \\\n",
            "count                         730000  730000.000000   730000.000000   \n",
            "mean   2022-07-02 00:00:00.000000256      10.009092     1100.236988   \n",
            "min              2022-01-01 00:00:00       1.000000      700.000131   \n",
            "25%              2022-04-02 00:00:00       5.000000      899.986151   \n",
            "50%              2022-07-02 00:00:00      10.000000     1100.466545   \n",
            "75%              2022-10-01 00:00:00      15.000000     1300.315380   \n",
            "max              2022-12-31 00:00:00      19.000000     1499.998828   \n",
            "std                              NaN       5.477773      230.993381   \n",
            "\n",
            "            Desconto        Imposto        Receita    Custo_Total  \n",
            "count  730000.000000  730000.000000  730000.000000  730000.000000  \n",
            "mean       99.896946      50.051641   10910.798819   11060.747405  \n",
            "min         0.000704       0.000178     502.630032     700.391148  \n",
            "25%        49.841643      25.056214    5449.321444    5601.240463  \n",
            "50%        99.842324      50.111142   10390.376041   10539.157153  \n",
            "75%       149.919536      75.046391   15588.989246   15739.476119  \n",
            "max       199.999880      99.999696   28490.541092   28590.871444  \n",
            "std        57.749413      28.860790    6575.227301    6574.974163  \n"
          ]
        }
      ]
    },
    {
      "cell_type": "code",
      "source": [
        "np.random.seed(42)\n",
        "cols_with_missing = ['Modelo', 'Cor', 'Desconto', 'Imposto']\n",
        "for col in cols_with_missing:\n",
        "    mask = np.random.rand(len(df)) < 0.1\n",
        "    df.loc[mask, col] = np.nan"
      ],
      "metadata": {
        "id": "H_x7rOkvWWFq"
      },
      "execution_count": 12,
      "outputs": []
    },
    {
      "cell_type": "code",
      "source": [
        "#exibir as primeiras 10 linhas\n",
        "print(df.head(10))"
      ],
      "metadata": {
        "colab": {
          "base_uri": "https://localhost:8080/"
        },
        "id": "XPXAkC08Wjep",
        "outputId": "5b734149-a834-464f-d46f-cd7cd07e7ec5"
      },
      "execution_count": 13,
      "outputs": [
        {
          "output_type": "stream",
          "name": "stdout",
          "text": [
            "  Empresa Localidade       Data Produto     Modelo       Cor  Quantidade  \\\n",
            "0   Apple     Dallas 2022-01-01  iPhone  iPhone 12  Prateado           4   \n",
            "1   Apple     Dallas 2022-01-02  iPhone  iPhone 13    Branco          15   \n",
            "2   Apple     Dallas 2022-01-03  iPhone  iPhone 12     Preto          19   \n",
            "3   Apple     Dallas 2022-01-04  iPhone  iPhone 12       NaN           6   \n",
            "4   Apple     Dallas 2022-01-05  iPhone  iPhone 11   Dourado           5   \n",
            "5   Apple     Dallas 2022-01-06  iPhone  iPhone 13     Preto          18   \n",
            "6   Apple     Dallas 2022-01-07  iPhone        NaN  Prateado           6   \n",
            "7   Apple     Dallas 2022-01-08  iPhone  iPhone 13     Preto           4   \n",
            "8   Apple     Dallas 2022-01-09  iPhone  iPhone 13   Dourado           6   \n",
            "9   Apple     Dallas 2022-01-10  iPhone  iPhone 13  Prateado           9   \n",
            "\n",
            "   Preço_Unitário    Desconto    Imposto       Receita   Custo_Total  \n",
            "0      805.522600         NaN  78.901533   3198.526452   3300.991932  \n",
            "1      860.412810   71.262996  30.287818  12834.929159  12936.479973  \n",
            "2     1111.243577   53.256798  64.482696  21060.371174  21178.110668  \n",
            "3      777.994707  161.483705  97.041030   4506.484539   4765.009274  \n",
            "4     1381.482959   32.711759        NaN   6874.703039   6985.970301  \n",
            "5     1016.435064  175.367914  74.897303  18120.463235  18370.728452  \n",
            "6      886.462260  154.742081  60.762411   5164.031476   5379.535968  \n",
            "7     1168.345660  176.763728  36.994070   4496.618912   4710.376709  \n",
            "8     1297.469097  193.833551        NaN   7590.981033   7843.278563  \n",
            "9     1187.190891  114.688788  15.728142  10570.029235  10700.446164  \n"
          ]
        }
      ]
    },
    {
      "cell_type": "code",
      "source": [
        "print(df.tail(10))"
      ],
      "metadata": {
        "colab": {
          "base_uri": "https://localhost:8080/"
        },
        "id": "pbhgNU44XB7M",
        "outputId": "80f7b1bf-51b5-4339-89af-a372ca6625ee"
      },
      "execution_count": 14,
      "outputs": [
        {
          "output_type": "stream",
          "name": "stdout",
          "text": [
            "       Empresa Localidade       Data Produto     Modelo       Cor  Quantidade  \\\n",
            "729990   Apple    Chicago 2022-12-22  iPhone  iPhone 13   Dourado          14   \n",
            "729991   Apple    Chicago 2022-12-23  iPhone  iPhone 13   Dourado          13   \n",
            "729992   Apple    Chicago 2022-12-24  iPhone  iPhone 12       NaN          15   \n",
            "729993   Apple    Chicago 2022-12-25  iPhone  iPhone 13   Dourado           7   \n",
            "729994   Apple    Chicago 2022-12-26  iPhone        NaN   Dourado          12   \n",
            "729995   Apple    Chicago 2022-12-27  iPhone  iPhone 11       NaN          16   \n",
            "729996   Apple    Chicago 2022-12-28  iPhone  iPhone 13  Prateado           7   \n",
            "729997   Apple    Chicago 2022-12-29  iPhone  iPhone 11  Prateado           4   \n",
            "729998   Apple    Chicago 2022-12-30  iPhone  iPhone 11     Preto          17   \n",
            "729999   Apple    Chicago 2022-12-31  iPhone        NaN   Dourado           8   \n",
            "\n",
            "        Preço_Unitário    Desconto    Imposto       Receita   Custo_Total  \n",
            "729990     1374.027661  106.654290        NaN  19129.732963  19329.746271  \n",
            "729991     1081.087452  110.464946  55.768544  13943.671927  14109.905417  \n",
            "729992     1487.186226  131.328453  86.836426  22176.464943  22394.629822  \n",
            "729993      918.107571   36.569557  98.275413   6390.183441   6525.028411  \n",
            "729994     1355.251722  138.672781  93.106358  16124.347887  16356.127026  \n",
            "729995     1450.123837  165.052355  53.161849  23036.929033  23255.143237  \n",
            "729996     1091.537108  129.031649  41.598918   7511.728105   7682.358672  \n",
            "729997     1024.542680         NaN   1.088954   3903.679924   4099.259674  \n",
            "729998     1010.494580   60.405126  45.369082  17118.002739  17223.776947  \n",
            "729999     1101.840264   96.186997  38.598693   8718.535119   8853.320808  \n"
          ]
        }
      ]
    },
    {
      "cell_type": "code",
      "source": [
        "# Verificar os valores ausentes\n",
        "valores_ausentes = df.isnull().sum()\n",
        "print(valores_ausentes)"
      ],
      "metadata": {
        "colab": {
          "base_uri": "https://localhost:8080/"
        },
        "id": "Bl1h0jciZHdf",
        "outputId": "7ebd5970-ad43-46b7-b64c-328f26ec47a0"
      },
      "execution_count": 15,
      "outputs": [
        {
          "output_type": "stream",
          "name": "stdout",
          "text": [
            "Empresa               0\n",
            "Localidade            0\n",
            "Data                  0\n",
            "Produto               0\n",
            "Modelo            72897\n",
            "Cor               72951\n",
            "Quantidade            0\n",
            "Preço_Unitário        0\n",
            "Desconto          72987\n",
            "Imposto           73078\n",
            "Receita               0\n",
            "Custo_Total           0\n",
            "dtype: int64\n"
          ]
        }
      ]
    },
    {
      "cell_type": "code",
      "source": [
        "# Selecionar todas as vendas de iPhones 11\n",
        "vendas_iphone_11 = df[df['Modelo'] == 'iPhone 11']\n",
        "\n",
        "# Exibir as primeiras linhas das vendas de iPhones 11\n",
        "print(vendas_iphone_11.head())"
      ],
      "metadata": {
        "colab": {
          "base_uri": "https://localhost:8080/"
        },
        "id": "5hUodZkIZsoD",
        "outputId": "4e08d883-102f-4c54-ed72-da40ee5db631"
      },
      "execution_count": 16,
      "outputs": [
        {
          "output_type": "stream",
          "name": "stdout",
          "text": [
            "   Empresa Localidade       Data Produto     Modelo      Cor  Quantidade  \\\n",
            "4    Apple     Dallas 2022-01-05  iPhone  iPhone 11  Dourado           5   \n",
            "12   Apple     Dallas 2022-01-13  iPhone  iPhone 11   Branco           2   \n",
            "13   Apple     Dallas 2022-01-14  iPhone  iPhone 11    Preto          19   \n",
            "24   Apple     Dallas 2022-01-25  iPhone  iPhone 11    Preto          15   \n",
            "26   Apple     Dallas 2022-01-27  iPhone  iPhone 11    Preto           3   \n",
            "\n",
            "    Preço_Unitário    Desconto    Imposto       Receita   Custo_Total  \n",
            "4      1381.482959   32.711759        NaN   6874.703039   6985.970301  \n",
            "12     1249.089640  179.102587  15.412985   2319.076693   2513.592265  \n",
            "13     1481.441442   41.736666  15.274234  28105.650741  28162.661641  \n",
            "24      775.115575   49.055588  97.758302  11577.678035  11724.491925  \n",
            "26     1160.169976         NaN  67.505787   3465.530895   3548.015715  \n"
          ]
        }
      ]
    },
    {
      "cell_type": "code",
      "source": [
        "# Selecionar as vendas de iPhones 12 na filial de Nova York\n",
        "vendas_iphone_12_ny = df[(df['Modelo'] == 'iPhone 12') & (df['Localidade'] == 'Nova York')]\n",
        "\n",
        "# Exibir as primeiras linhas das vendas de iPhones 12 na filial de Nova York\n",
        "print(vendas_iphone_12_ny.head())"
      ],
      "metadata": {
        "colab": {
          "base_uri": "https://localhost:8080/"
        },
        "id": "OWYo29X3Zy3s",
        "outputId": "dcb254e2-1eef-4950-c829-8c58d6487351"
      },
      "execution_count": 17,
      "outputs": [
        {
          "output_type": "stream",
          "name": "stdout",
          "text": [
            "     Empresa Localidade       Data Produto     Modelo      Cor  Quantidade  \\\n",
            "1096   Apple  Nova York 2022-01-02  iPhone  iPhone 12      NaN           2   \n",
            "1098   Apple  Nova York 2022-01-04  iPhone  iPhone 12    Preto          15   \n",
            "1101   Apple  Nova York 2022-01-07  iPhone  iPhone 12  Dourado           4   \n",
            "1105   Apple  Nova York 2022-01-11  iPhone  iPhone 12    Preto           6   \n",
            "1106   Apple  Nova York 2022-01-12  iPhone  iPhone 12    Preto           2   \n",
            "\n",
            "      Preço_Unitário    Desconto    Imposto       Receita   Custo_Total  \n",
            "1096     1461.440988  137.073003   3.312733   2785.808974   2926.194710  \n",
            "1098     1172.380410  145.233039  21.354308  17440.473110  17607.060457  \n",
            "1101      838.886925   86.271560  35.527964   3269.276140   3391.075665  \n",
            "1105     1325.447915   92.224680  28.467277   7860.462811   7981.154768  \n",
            "1106     1139.268662         NaN  57.527508   2258.116307   2336.064832  \n"
          ]
        }
      ]
    },
    {
      "cell_type": "code",
      "source": [
        "# Calcular a receita para cada venda\n",
        "df['Receita'] = df['Quantidade'] * df['Preço_Unitário']\n",
        "\n",
        "# Selecionar as vendas de iPhones na filial de Los Angeles com receita maior que $10.000\n",
        "vendas_la_receita_maior_10000 = df[(df['Localidade'] == 'Los Angeles') & (df['Receita'] > 10000)]\n",
        "\n",
        "# Exibir as primeiras linhas das vendas de iPhones na filial de Los Angeles com receita maior que $10.000\n",
        "print(vendas_la_receita_maior_10000.head())"
      ],
      "metadata": {
        "colab": {
          "base_uri": "https://localhost:8080/"
        },
        "id": "R1u0a_7hdOCA",
        "outputId": "e8f63f45-9c1a-4881-b7ec-51be7dcf0a33"
      },
      "execution_count": 18,
      "outputs": [
        {
          "output_type": "stream",
          "name": "stdout",
          "text": [
            "    Empresa   Localidade       Data Produto     Modelo       Cor  Quantidade  \\\n",
            "365   Apple  Los Angeles 2022-01-01  iPhone  iPhone 12    Branco          14   \n",
            "366   Apple  Los Angeles 2022-01-02  iPhone  iPhone 12   Dourado          12   \n",
            "367   Apple  Los Angeles 2022-01-03  iPhone  iPhone 12  Prateado          12   \n",
            "369   Apple  Los Angeles 2022-01-05  iPhone        NaN     Preto          17   \n",
            "370   Apple  Los Angeles 2022-01-06  iPhone  iPhone 11     Preto          17   \n",
            "\n",
            "     Preço_Unitário    Desconto    Imposto       Receita   Custo_Total  \n",
            "365      982.571014         NaN   0.173783  13755.994191  13756.167974  \n",
            "366     1486.453495  171.477611   9.990807  17837.441941  17847.432749  \n",
            "367     1407.060357  123.464966  36.366044  16884.724286  16921.090330  \n",
            "369      985.002542  153.754445  38.298970  16745.043215  16783.342185  \n",
            "370     1305.703822  193.360119  38.956685  22196.964978  22235.921663  \n"
          ]
        }
      ]
    },
    {
      "cell_type": "code",
      "source": [
        "# Selecionar as vendas de iPhones com desconto aplicado maior que $50\n",
        "vendas_desconto_maior_50 = df[df['Desconto'] > 50]\n",
        "\n",
        "# Exibir as primeiras linhas das vendas de iPhones com desconto aplicado maior que $50\n",
        "print(vendas_desconto_maior_50.head())"
      ],
      "metadata": {
        "colab": {
          "base_uri": "https://localhost:8080/"
        },
        "id": "rWSY_iL_e0qt",
        "outputId": "b6c46720-832d-4df2-e815-cce14397d037"
      },
      "execution_count": 19,
      "outputs": [
        {
          "output_type": "stream",
          "name": "stdout",
          "text": [
            "  Empresa Localidade       Data Produto     Modelo       Cor  Quantidade  \\\n",
            "1   Apple     Dallas 2022-01-02  iPhone  iPhone 13    Branco          15   \n",
            "2   Apple     Dallas 2022-01-03  iPhone  iPhone 12     Preto          19   \n",
            "3   Apple     Dallas 2022-01-04  iPhone  iPhone 12       NaN           6   \n",
            "5   Apple     Dallas 2022-01-06  iPhone  iPhone 13     Preto          18   \n",
            "6   Apple     Dallas 2022-01-07  iPhone        NaN  Prateado           6   \n",
            "\n",
            "   Preço_Unitário    Desconto    Imposto       Receita   Custo_Total  \n",
            "1      860.412810   71.262996  30.287818  12906.192155  12936.479973  \n",
            "2     1111.243577   53.256798  64.482696  21113.627972  21178.110668  \n",
            "3      777.994707  161.483705  97.041030   4667.968244   4765.009274  \n",
            "5     1016.435064  175.367914  74.897303  18295.831149  18370.728452  \n",
            "6      886.462260  154.742081  60.762411   5318.773557   5379.535968  \n"
          ]
        }
      ]
    },
    {
      "cell_type": "code",
      "source": [
        "# Definir o intervalo de datas correspondente a janeiro de 2022\n",
        "data_janeiro_2022 = pd.date_range(start='2022-01-01', end='2022-01-31')\n",
        "\n",
        "# Selecionar as vendas de iPhones que ocorreram em janeiro de 2022\n",
        "vendas_janeiro_2022 = df[df['Data'].isin(data_janeiro_2022)]\n",
        "\n",
        "# Exibir as primeiras linhas das vendas de iPhones que ocorreram em janeiro de 2022\n",
        "print(vendas_janeiro_2022.head())"
      ],
      "metadata": {
        "colab": {
          "base_uri": "https://localhost:8080/"
        },
        "id": "IuJNrtUVf0f2",
        "outputId": "54fcb657-97f7-4506-ccdc-df1d437bf31a"
      },
      "execution_count": 20,
      "outputs": [
        {
          "output_type": "stream",
          "name": "stdout",
          "text": [
            "  Empresa Localidade       Data Produto     Modelo       Cor  Quantidade  \\\n",
            "0   Apple     Dallas 2022-01-01  iPhone  iPhone 12  Prateado           4   \n",
            "1   Apple     Dallas 2022-01-02  iPhone  iPhone 13    Branco          15   \n",
            "2   Apple     Dallas 2022-01-03  iPhone  iPhone 12     Preto          19   \n",
            "3   Apple     Dallas 2022-01-04  iPhone  iPhone 12       NaN           6   \n",
            "4   Apple     Dallas 2022-01-05  iPhone  iPhone 11   Dourado           5   \n",
            "\n",
            "   Preço_Unitário    Desconto    Imposto       Receita   Custo_Total  \n",
            "0      805.522600         NaN  78.901533   3222.090399   3300.991932  \n",
            "1      860.412810   71.262996  30.287818  12906.192155  12936.479973  \n",
            "2     1111.243577   53.256798  64.482696  21113.627972  21178.110668  \n",
            "3      777.994707  161.483705  97.041030   4667.968244   4765.009274  \n",
            "4     1381.482959   32.711759        NaN   6907.414797   6985.970301  \n"
          ]
        }
      ]
    },
    {
      "cell_type": "code",
      "source": [
        "# Calcular o total de vendas de cada produto\n",
        "total_vendas_por_produto = df.groupby('Produto')['Quantidade'].sum()\n",
        "\n",
        "# Exibir o total de vendas de cada produto\n",
        "print(total_vendas_por_produto)"
      ],
      "metadata": {
        "colab": {
          "base_uri": "https://localhost:8080/"
        },
        "id": "wsvsgYIJgE5k",
        "outputId": "0b204b6c-dfb8-40c4-b2ad-13109e31282f"
      },
      "execution_count": 21,
      "outputs": [
        {
          "output_type": "stream",
          "name": "stdout",
          "text": [
            "Produto\n",
            "iPhone    7306637\n",
            "Name: Quantidade, dtype: int64\n"
          ]
        }
      ]
    },
    {
      "cell_type": "code",
      "source": [
        "# Calcular o total de vendas de cada modelo de iPhone\n",
        "total_vendas_por_modelo = df.groupby('Modelo')['Quantidade'].sum()\n",
        "\n",
        "# Encontrar o modelo de iPhone mais vendido\n",
        "modelo_mais_vendido = total_vendas_por_modelo.idxmax()\n",
        "\n",
        "# Exibir o modelo de iPhone mais vendido\n",
        "print(\"O modelo de iPhone mais vendido é:\", modelo_mais_vendido)"
      ],
      "metadata": {
        "colab": {
          "base_uri": "https://localhost:8080/"
        },
        "id": "vNkDERwbgbYo",
        "outputId": "a8be9152-91b2-4eb5-d8ab-47cd409f7a0b"
      },
      "execution_count": 22,
      "outputs": [
        {
          "output_type": "stream",
          "name": "stdout",
          "text": [
            "O modelo de iPhone mais vendido é: iPhone 13\n"
          ]
        }
      ]
    },
    {
      "cell_type": "code",
      "source": [
        "# Calcular o total de vendas de cada cor de iPhone\n",
        "total_vendas_por_cor = df.groupby('Cor')['Quantidade'].sum()\n",
        "\n",
        "# Encontrar a cor de iPhone mais vendida\n",
        "cor_mais_popular = total_vendas_por_cor.idxmax()\n",
        "\n",
        "# Exibir a cor de iPhone mais vendida\n",
        "print(\"A cor de iPhone mais popular vendida é:\", cor_mais_popular)"
      ],
      "metadata": {
        "colab": {
          "base_uri": "https://localhost:8080/"
        },
        "id": "Bgx8sJojgqW2",
        "outputId": "17cead8e-471c-4349-c907-c491b9975da4"
      },
      "execution_count": 23,
      "outputs": [
        {
          "output_type": "stream",
          "name": "stdout",
          "text": [
            "A cor de iPhone mais popular vendida é: Prateado\n"
          ]
        }
      ]
    },
    {
      "cell_type": "code",
      "source": [
        "# Calcular a receita para cada venda\n",
        "df['Receita'] = df['Quantidade'] * df['Preço_Unitário']\n",
        "\n",
        "# Calcular o total de receita gerada por cada filial\n",
        "total_receita_por_filial = df.groupby('Localidade')['Receita'].sum()\n",
        "\n",
        "# Exibir o total de receita gerada por cada filial\n",
        "print(total_receita_por_filial)"
      ],
      "metadata": {
        "colab": {
          "base_uri": "https://localhost:8080/"
        },
        "id": "64-4ZjLuhCqQ",
        "outputId": "a008d1b6-f8ad-45f0-d060-32ff48986e70"
      },
      "execution_count": 26,
      "outputs": [
        {
          "output_type": "stream",
          "name": "stdout",
          "text": [
            "Localidade\n",
            "Chicago        1.538910e+09\n",
            "Dallas         1.689313e+09\n",
            "Los Angeles    1.590442e+09\n",
            "Miami          1.588418e+09\n",
            "Nova York      1.630725e+09\n",
            "Name: Receita, dtype: float64\n"
          ]
        }
      ]
    },
    {
      "cell_type": "code",
      "source": [
        "# Calcular a média de desconto aplicado em cada produto\n",
        "media_desconto_por_produto = df.groupby('Produto')['Desconto'].mean()\n",
        "\n",
        "# Exibir a média de desconto aplicado em cada produto\n",
        "print(media_desconto_por_produto)"
      ],
      "metadata": {
        "colab": {
          "base_uri": "https://localhost:8080/"
        },
        "id": "LL0At5wCoVLc",
        "outputId": "e5dd2935-9f95-44b3-a794-e63df3b0a4c4"
      },
      "execution_count": 27,
      "outputs": [
        {
          "output_type": "stream",
          "name": "stdout",
          "text": [
            "Produto\n",
            "iPhone    99.870485\n",
            "Name: Desconto, dtype: float64\n"
          ]
        }
      ]
    },
    {
      "cell_type": "code",
      "source": [
        "# Calcular o total de vendas por filial\n",
        "total_vendas_por_filial = df.groupby('Localidade')['Quantidade'].sum()\n",
        "\n",
        "# Encontrar a filial com a menor quantidade de vendas\n",
        "filial_menor_quantidade_vendas = total_vendas_por_filial.idxmin()\n",
        "\n",
        "# Exibir a filial com a menor quantidade de vendas\n",
        "print(\"A filial com a menor quantidade de vendas é:\", filial_menor_quantidade_vendas)"
      ],
      "metadata": {
        "colab": {
          "base_uri": "https://localhost:8080/"
        },
        "id": "c7oSpz1LovKX",
        "outputId": "9cf5ef0b-99ed-42e6-992a-01d9cfc11e3b"
      },
      "execution_count": 28,
      "outputs": [
        {
          "output_type": "stream",
          "name": "stdout",
          "text": [
            "A filial com a menor quantidade de vendas é: Chicago\n"
          ]
        }
      ]
    },
    {
      "cell_type": "code",
      "source": [],
      "metadata": {
        "id": "iQ7IZJH2pFcS"
      },
      "execution_count": null,
      "outputs": []
    }
  ]
}